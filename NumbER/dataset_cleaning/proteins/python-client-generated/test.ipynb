{
 "cells": [
  {
   "cell_type": "code",
   "execution_count": 2,
   "metadata": {},
   "outputs": [],
   "source": [
    "import json\n",
    "with open(\"../all_clusters.json\", \"r\") as f:\n",
    "    clusters = json.load(f)\n",
    "import tqdm"
   ]
  },
  {
   "cell_type": "code",
   "execution_count": 7,
   "metadata": {},
   "outputs": [
    {
     "name": "stdout",
     "output_type": "stream",
     "text": [
      "50965\n",
      "706\n"
     ]
    }
   ],
   "source": [
    "all = []\n",
    "print(len(clusters))\n",
    "for idx, data in enumerate(clusters.items()):\n",
    "    key = data[0]\n",
    "    cluster = data[1]\n",
    "    pdb_ids = set()\n",
    "    for el in cluster:\n",
    "        pdb_id = el[0]\n",
    "        if pdb_id in pdb_ids:\n",
    "            all.append((key, pdb_id))\n",
    "            break\n",
    "        pdb_ids.add(pdb_id)\n",
    "print(len(all))"
   ]
  },
  {
   "cell_type": "code",
   "execution_count": null,
   "metadata": {},
   "outputs": [],
   "source": []
  }
 ],
 "metadata": {
  "kernelspec": {
   "display_name": "py39",
   "language": "python",
   "name": "python3"
  },
  "language_info": {
   "codemirror_mode": {
    "name": "ipython",
    "version": 3
   },
   "file_extension": ".py",
   "mimetype": "text/x-python",
   "name": "python",
   "nbconvert_exporter": "python",
   "pygments_lexer": "ipython3",
   "version": "3.9.16"
  },
  "orig_nbformat": 4
 },
 "nbformat": 4,
 "nbformat_minor": 2
}
