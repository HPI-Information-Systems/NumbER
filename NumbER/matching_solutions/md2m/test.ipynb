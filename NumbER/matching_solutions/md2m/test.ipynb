{
 "cells": [
  {
   "cell_type": "code",
   "execution_count": 1,
   "metadata": {},
   "outputs": [],
   "source": [
    "import pandas as pd"
   ]
  },
  {
   "cell_type": "code",
   "execution_count": 2,
   "metadata": {},
   "outputs": [],
   "source": [
    "df = pd.read_csv(\"./result.csv\")\n",
    "gs = pd.read_csv(\"~/Masterarbeit/NumbER/NumbER/dataset_cleaning/earthquakes/groundtruth_associated_us.csv\")\n",
    "matches = df[df['sim'] >= 0.093]"
   ]
  },
  {
   "cell_type": "code",
   "execution_count": 8,
   "metadata": {},
   "outputs": [
    {
     "name": "stdout",
     "output_type": "stream",
     "text": [
      "19.0\n"
     ]
    },
    {
     "ename": "TypeError",
     "evalue": "unhashable type: 'list'",
     "output_type": "error",
     "traceback": [
      "\u001b[0;31m---------------------------------------------------------------------------\u001b[0m",
      "\u001b[0;31mTypeError\u001b[0m                                 Traceback (most recent call last)",
      "Cell \u001b[0;32mIn[8], line 6\u001b[0m\n\u001b[1;32m      4\u001b[0m     \u001b[39mif\u001b[39;00m \u001b[39mlen\u001b[39m(gs\u001b[39m.\u001b[39mloc[((gs[\u001b[39m'\u001b[39m\u001b[39mp1\u001b[39m\u001b[39m'\u001b[39m] \u001b[39m==\u001b[39m row[\u001b[39m'\u001b[39m\u001b[39mp1\u001b[39m\u001b[39m'\u001b[39m]) \u001b[39m&\u001b[39m (gs[\u001b[39m'\u001b[39m\u001b[39mp2\u001b[39m\u001b[39m'\u001b[39m] \u001b[39m==\u001b[39m row[\u001b[39m'\u001b[39m\u001b[39mp2\u001b[39m\u001b[39m'\u001b[39m])) \u001b[39m|\u001b[39m ((gs[\u001b[39m'\u001b[39m\u001b[39mp1\u001b[39m\u001b[39m'\u001b[39m] \u001b[39m==\u001b[39m row[\u001b[39m'\u001b[39m\u001b[39mp2\u001b[39m\u001b[39m'\u001b[39m]) \u001b[39m&\u001b[39m (gs[\u001b[39m'\u001b[39m\u001b[39mp2\u001b[39m\u001b[39m'\u001b[39m] \u001b[39m==\u001b[39m row[\u001b[39m'\u001b[39m\u001b[39mp1\u001b[39m\u001b[39m'\u001b[39m]))]) \u001b[39m>\u001b[39m \u001b[39m0\u001b[39m:\n\u001b[1;32m      5\u001b[0m         \u001b[39mprint\u001b[39m(row[\u001b[39m'\u001b[39m\u001b[39mp1\u001b[39m\u001b[39m'\u001b[39m])\n\u001b[0;32m----> 6\u001b[0m         true_positives\u001b[39m.\u001b[39;49madd(\u001b[39msorted\u001b[39;49m(\u001b[39mtuple\u001b[39;49m((row[\u001b[39m'\u001b[39;49m\u001b[39mp1\u001b[39;49m\u001b[39m'\u001b[39;49m], row[\u001b[39m'\u001b[39;49m\u001b[39mp2\u001b[39;49m\u001b[39m'\u001b[39;49m]))))\n\u001b[1;32m      7\u001b[0m \u001b[39mprint\u001b[39m(\u001b[39mlen\u001b[39m(true_positives))\n",
      "\u001b[0;31mTypeError\u001b[0m: unhashable type: 'list'"
     ]
    }
   ],
   "source": [
    "tp = 0\n",
    "true_positives = set()\n",
    "for _,row in matches.iterrows():\n",
    "    if len(gs.loc[((gs['p1'] == row['p1']) & (gs['p2'] == row['p2'])) | ((gs['p1'] == row['p2']) & (gs['p2'] == row['p1']))]) > 0:\n",
    "        true_positives.add(sorted(tuple((row['p1'], row['p2']))))\n",
    "print(len(true_positives))"
   ]
  },
  {
   "cell_type": "code",
   "execution_count": null,
   "metadata": {},
   "outputs": [],
   "source": []
  }
 ],
 "metadata": {
  "kernelspec": {
   "display_name": "py39",
   "language": "python",
   "name": "python3"
  },
  "language_info": {
   "codemirror_mode": {
    "name": "ipython",
    "version": 3
   },
   "file_extension": ".py",
   "mimetype": "text/x-python",
   "name": "python",
   "nbconvert_exporter": "python",
   "pygments_lexer": "ipython3",
   "version": "3.9.16"
  },
  "orig_nbformat": 4
 },
 "nbformat": 4,
 "nbformat_minor": 2
}
