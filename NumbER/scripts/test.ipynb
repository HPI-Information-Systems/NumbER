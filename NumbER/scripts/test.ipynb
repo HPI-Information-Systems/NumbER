{
 "cells": [
  {
   "cell_type": "code",
   "execution_count": 1,
   "metadata": {},
   "outputs": [],
   "source": [
    "import pandas as pd\n",
    "import numpy as np"
   ]
  },
  {
   "cell_type": "code",
   "execution_count": 5,
   "metadata": {},
   "outputs": [],
   "source": [
    "gold = pd.read_csv('/hpi/fs00/share/fg-naumann/lukas.laskowski/experiments/experiments_test_19_05_2023_19:49:50/matching_solution/ditto/baby_products_numeric_goldstandard_0.csv')\n",
    "pred = pd.read_csv('/hpi/fs00/share/fg-naumann/lukas.laskowski/experiments/experiments_test_19_05_2023_19:49:50/matching_solution/ditto/baby_products_numeric_0.csv')\n",
    "gold['tuple'] = gold.apply(lambda row: tuple(sorted((row['p1'], row['p2']))), axis=1)\n",
    "pred['tuple'] = pred.apply(lambda row: tuple(sorted((row['p1'], row['p2']))), axis=1)"
   ]
  },
  {
   "cell_type": "code",
   "execution_count": 24,
   "metadata": {},
   "outputs": [
    {
     "name": "stdout",
     "output_type": "stream",
     "text": [
      "186\n"
     ]
    },
    {
     "data": {
      "text/plain": [
       "array([0. , 0.5, 1. ])"
      ]
     },
     "execution_count": 24,
     "metadata": {},
     "output_type": "execute_result"
    }
   ],
   "source": [
    "true_positives = set(gold[gold['prediction'] == 1]['tuple'].to_list()).intersection(set(pred[pred['prediction'] == 1]['tuple'].to_list()))\n",
    "false_positives = set(pred[pred['prediction'] == 1]['tuple'].to_list()).difference(set(gold[gold['prediction'] == 1]['tuple'].to_list()))\n",
    "false_negatives = set(gold[gold['prediction'] == 1]['tuple'].to_list()).difference(set(pred[pred['prediction'] == 1]['tuple'].to_list()))\n",
    "gold[gold['prediction'] == 1]['tuple'].to_list()#).intersection(set(pred[pred['prediction'] == 1]['tuple'].to_list())\n",
    "\n",
    "print(len(gold['tuple'].to_list()))\n",
    "len(gold['tuple'].unique())\n",
    "#select all tuples that occur at least twice\n",
    "pred.groupby('tuple').mean()['prediction'].sort_values().unique()"
   ]
  },
  {
   "cell_type": "code",
   "execution_count": 10,
   "metadata": {},
   "outputs": [
    {
     "name": "stdout",
     "output_type": "stream",
     "text": [
      "11\n",
      "43\n",
      "10\n"
     ]
    }
   ],
   "source": [
    "print(len(true_positives))\n",
    "print(len(false_positives))\n",
    "print(len(false_negatives))"
   ]
  },
  {
   "cell_type": "code",
   "execution_count": 26,
   "metadata": {},
   "outputs": [
    {
     "data": {
      "text/plain": [
       "True"
      ]
     },
     "execution_count": 26,
     "metadata": {},
     "output_type": "execute_result"
    }
   ],
   "source": [
    "goldstandard_closed = pd.read_csv('/hpi/fs00/share/fg-naumann/lukas.laskowski/datasets/baby_products_numeric/matches_closed.csv')\n",
    "goldstandard_closed['tuple'] = goldstandard_closed.apply(lambda row: tuple(sorted((row['p1'], row['p2']))), axis=1)\n",
    "len(goldstandard_closed['tuple'].unique()) == len(goldstandard_closed)"
   ]
  },
  {
   "cell_type": "code",
   "execution_count": null,
   "metadata": {},
   "outputs": [],
   "source": []
  }
 ],
 "metadata": {
  "kernelspec": {
   "display_name": "py39",
   "language": "python",
   "name": "python3"
  },
  "language_info": {
   "codemirror_mode": {
    "name": "ipython",
    "version": 3
   },
   "file_extension": ".py",
   "mimetype": "text/x-python",
   "name": "python",
   "nbconvert_exporter": "python",
   "pygments_lexer": "ipython3",
   "version": "3.9.16"
  },
  "orig_nbformat": 4
 },
 "nbformat": 4,
 "nbformat_minor": 2
}
