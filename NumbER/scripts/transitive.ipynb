{
 "cells": [
  {
   "cell_type": "code",
   "execution_count": 37,
   "metadata": {},
   "outputs": [],
   "source": [
    "#from NumbER.matching_solutions.utils.transitive_closure import *\n",
    "import pandas as pd\n",
    "import numpy as np\n",
    "import networkx as nx\n",
    "import os"
   ]
  },
  {
   "cell_type": "code",
   "execution_count": 38,
   "metadata": {},
   "outputs": [],
   "source": [
    "input = [\n",
    "    \t{'name': 'anime','groundtruth': '','left_id': 'ID','right_id': 'ID','match_id': 'gold'},\n",
    "\t\t{'name': 'baby_products','groundtruth': '','left_id': 'int_id','right_id': 'int_id','match_id': 'product_is_match'},\n",
    "  \t\t{'name': 'beer','groundtruth': '','left_id': 'Label','right_id': 'Label','match_id': 'gold'},\n",
    "      \t{'name': 'bikes','groundtruth': '','left_id': 'id','right_id': 'id','match_id': 'gold'},\n",
    "  \t\t{'name': 'books1','groundtruth': '','left_id': 'id','right_id': 'id','match_id': 'gold_label'},\n",
    "  \t\t{'name': 'books2','groundtruth': '','left_id': 'ID','right_id': 'ID','match_id': 'match_label'},         \n",
    "  \t\t{'name': 'books3','groundtruth': '','left_id': 'ID','right_id': 'ID','match_id': 'gold'},\n",
    "  \t\t{'name': 'books4','groundtruth': '','left_id': 'ID','right_id': 'ID','match_id': 'gold'},\n",
    "  \t\t{'name': 'books5','groundtruth': '','left_id': 'ID','right_id': 'ID','match_id': 'Gold'},\n",
    "  \t\t{'name': 'citations','groundtruth': '','left_id': 'ID','right_id': 'ID','match_id': 'is_match'},\n",
    "\t\t#{'name': 'cosmetics','groundtruth': '','left_id': 'Product_id','right_id': 'ID','match_id': 'gold', 'skiprows':0},\n",
    "\t\t{'name': 'ebooks1','groundtruth': '','left_id': 'record_id','right_id': 'record_id','match_id': 'gold'},\n",
    "\t\t{'name': 'ebooks2','groundtruth': '','left_id': 'record_id','right_id': 'record_id','match_id': 'gold'},\n",
    "\t\t{'name': 'electronics','groundtruth': '','left_id': 'ID','right_id': 'ID','match_id': 'gold'},\n",
    "\t\t{'name': 'movies1','groundtruth': '','left_id': 'Id','right_id': 'Id','match_id': 'gold'},\n",
    "\t\t{'name': 'movies2','groundtruth': '','left_id': 'ID','right_id': 'ID','match_id': 'class_label'},\n",
    "\t\t{'name': 'movies3','groundtruth': '','left_id': 'ID','right_id': 'ID','match_id': 'gold'},\n",
    "\t\t{'name': 'movies4','groundtruth': '','left_id': 'id','right_id': 'id','match_id': 'gold'},\n",
    "\t\t{'name': 'movies5','groundtruth': '','left_id': 'id','right_id': 'id','match_id': 'gold'},\n",
    "\t\t{'name': 'music','groundtruth': '','left_id': 'Sno','right_id': 'Sno','match_id': 'label'},\n",
    "  \t\t{'name': 'restaurants1','groundtruth': '','left_id': '_id','right_id': '_id','match_id': 'gold'},\n",
    "    \t{'name': 'restaurants2','groundtruth': '','left_id': 'id','right_id': 'id','match_id': 'gold'},\n",
    "      \t{'name': 'restaurants3','groundtruth': '','left_id': 'id','right_id': 'id','match_id': 'gold'},\n",
    "        {'name': 'restaurants4','groundtruth': '','left_id': 'id','right_id': 'id','match_id': 'gold'}\n",
    "        ]\n",
    "\n",
    "def calculate_clusters(pairs: pd.DataFrame):\n",
    "    pairs = pairs[pairs['prediction'] == 1]\n",
    "    pairs=[tuple(sorted((pair['p1'], pair['p2']))) for _,pair in pairs.iterrows()]\n",
    "    G = nx.Graph()\n",
    "    G.add_edges_from(pairs)\n",
    "    clusters = []\n",
    "    for connected_component in nx.connected_components(G):\n",
    "        clusters.append(list(connected_component))\n",
    "    return clusters"
   ]
  },
  {
   "cell_type": "code",
   "execution_count": 39,
   "metadata": {},
   "outputs": [
    {
     "name": "stdout",
     "output_type": "stream",
     "text": [
      "Doint it for anime\n",
      "Doint it for baby_products\n",
      "Doint it for beer\n",
      "Doint it for bikes\n",
      "TABLEA48100 and TABLEB10450 are not in groundtruth\n",
      "TABLEA48100 and TABLEB1857 are not in groundtruth\n",
      "Doint it for books1\n",
      "No groundtruth found\n",
      "Doint it for books2\n",
      "Doint it for books3\n",
      "Doint it for books4\n",
      "Doint it for books5\n",
      "Doint it for citations\n",
      "Doint it for ebooks1\n",
      "Doint it for ebooks2\n",
      "Doint it for electronics\n",
      "Doint it for movies1\n",
      "Doint it for movies2\n",
      "Doint it for movies3\n",
      "Doint it for movies4\n",
      "Doint it for movies5\n",
      "TABLEA1976 and TABLEB901 are not in groundtruth\n",
      "Doint it for music\n",
      "No groundtruth found\n",
      "Doint it for restaurants1\n",
      "Doint it for restaurants2\n",
      "Doint it for restaurants3\n",
      "Doint it for restaurants4\n"
     ]
    }
   ],
   "source": [
    "path_to_data = \"\"\n",
    "for el in input:\n",
    "\tskiprows = 5\n",
    "\tprint(f\"Doint it for {el['name']}\")\n",
    "\tif el['name'] == 'electronics':\n",
    "\t\tcontinue\n",
    "\tif 'skiprows' in el:\n",
    "\t\tskiprows = el['skiprows']\n",
    "\ttry:\n",
    "\t\tgroundtruth = pd.read_csv(f'/hpi/fs00/share/fg-naumann/lukas.laskowski/Anhai_784/{el[\"name\"]}/csv_files/labeled_data.csv', skiprows=skiprows)\n",
    "\texcept:\n",
    "\t\tprint(\"No groundtruth found\")\n",
    "\t\tcontinue\n",
    "\tgroundtruth.rename(columns={f'rtable.{el[\"right_id\"]}': 'p2', f'ltable.{el[\"left_id\"]}': 'p1', f\"{el['match_id']}\": 'prediction'}, inplace=True)\n",
    "\t#groundtruth['label'] = groundtruth['label'].apply(lambda x: 1 if x == 'MATCH' else 0)#!BRAUCH ICH DAS?\n",
    "\tgroundtruth[\"p1\"] = groundtruth[\"p1\"].apply(lambda x: \"TABLEA\" + str(x))\n",
    "\tgroundtruth[\"p2\"] = groundtruth[\"p2\"].apply(lambda x: \"TABLEB\" + str(x))\n",
    "\tgroundtruth = groundtruth[[\"p1\", \"p2\", 'prediction']]\n",
    "\tclusters = calculate_clusters(groundtruth)\n",
    "\tfor cluster in clusters:\n",
    "\t\tfor item_a in list(filter(lambda x: \"TABLEA\" in x, cluster)):\n",
    "\t\t\tfor item_b in filter(lambda x: \"TABLEB\" in x, cluster):\n",
    "\t\t\t\t#check if item_a and item_b are a matching pair in groundtruth\n",
    "\t\t\t\tif not ((groundtruth['p1'] == item_a) & (groundtruth['p2'] == item_b) & groundtruth['prediction'] == 1).any():\n",
    "\t\t\t\t\tprint(f\"{item_a} and {item_b} are not in groundtruth\")"
   ]
  },
  {
   "cell_type": "code",
   "execution_count": null,
   "metadata": {},
   "outputs": [],
   "source": []
  }
 ],
 "metadata": {
  "kernelspec": {
   "display_name": "py39",
   "language": "python",
   "name": "python3"
  },
  "language_info": {
   "codemirror_mode": {
    "name": "ipython",
    "version": 3
   },
   "file_extension": ".py",
   "mimetype": "text/x-python",
   "name": "python",
   "nbconvert_exporter": "python",
   "pygments_lexer": "ipython3",
   "version": "3.9.16"
  },
  "orig_nbformat": 4
 },
 "nbformat": 4,
 "nbformat_minor": 2
}
